{
 "metadata": {
  "language_info": {
   "codemirror_mode": {
    "name": "ipython",
    "version": 3
   },
   "file_extension": ".py",
   "mimetype": "text/x-python",
   "name": "python",
   "nbconvert_exporter": "python",
   "pygments_lexer": "ipython3",
   "version": "3.8.5-final"
  },
  "orig_nbformat": 2,
  "kernelspec": {
   "name": "Python 3.8.5 64-bit ('.env')",
   "display_name": "Python 3.8.5 64-bit ('.env')",
   "metadata": {
    "interpreter": {
     "hash": "da97e3b0584139754d563d22bc29a9a9026d28757bf1a0bf216ec8e734872144"
    }
   }
  }
 },
 "nbformat": 4,
 "nbformat_minor": 2,
 "cells": [
  {
   "source": [
    "## Advanced Data Structures"
   ],
   "cell_type": "markdown",
   "metadata": {}
  },
  {
   "source": [
    "### Trie\n",
    "A **Trie** is a tree-like data structure that proves to be really efficient while solving programming problems related to strings.\n",
    "The Trie is derived from \"retrieval.\" As you can guess, the main purpose of using this structure is to provide fast retrieval. Tries are mostly used in dictionary word searches, search engine auto-suggestions, and IP routing as well.\n",
    "#### Properties of the Trie\n",
    "- Tries are similar to graphs as they are a combination of nodes where **each node represents a unique letter.**\n",
    "- Each node can point to `None` or other children nodes.\n",
    "- The size of a trie depends upon the number of characters. For example, in the English alphabet, there are 26 letters so the number of unique nodes cannot exceed 26.\n",
    "- The depth of a trie depends on the longest word that it stores.\n",
    "- Another important property of a trie is that it provides the same path for words which share a common prefix. For example, “there” and “their” have a common prefix “the.” Hence, they will share the same path till “e.” After that, the path will split into two branches. This is the backbone of the trie functionality.\n",
    "While Tries usually allocate memory for the entire alphabet by using a list of children, it can also be implemented using a Map of children which is memory friendly, proportional to the number of children rather than the alphabet size.\n",
    "This is nice when you have a very large alphabet."
   ],
   "cell_type": "markdown",
   "metadata": {}
  },
  {
   "cell_type": "code",
   "execution_count": 32,
   "metadata": {},
   "outputs": [],
   "source": [
    "class TrieNode():\n",
    "    \"\"\" The node of a trie represents a single letter and contains\n",
    "        references to other letters in its `childrens` map.\n",
    "    \"\"\"\n",
    "    def __init__(self, char=''):\n",
    "        self.char = char\n",
    "        self.is_last = False # indicates the end of a word\n",
    "        self.children = {} # map letters -> node\n",
    "\n",
    "\n",
    "class Trie():\n",
    "    \"A Tree where the nodes represent letters in a word.\"\n",
    "    def __init__(self):\n",
    "        \"Make a new Trie with a root node\"\n",
    "        self.root = TrieNode(None)\n",
    "\n",
    "    def insert(self, word: str):\n",
    "        \"Insert a key in the Trie\"\n",
    "        if word is None: return\n",
    "        # Start searching at the root\n",
    "        node = self.root\n",
    "        # Look for each character in the trie\n",
    "        for i in word:\n",
    "            # If not already there, create a new Node for this letter\n",
    "            if node.children.get(i) is None:\n",
    "                node.children[i] = TrieNode(i)\n",
    "            # Start from this letter\n",
    "            node = node.children[i]\n",
    "        \n",
    "        # Finally, mark the end character as a leaf node\n",
    "        node.is_last = True\n",
    "\n",
    "    def search(self, word: str):\n",
    "        \"Returns True if the key is found in the Trie\"\n",
    "        if word is None: return False\n",
    "        node = self.root\n",
    "        for i in word:\n",
    "            child = node.children.get(i)\n",
    "            if child is None:\n",
    "                return False\n",
    "            node = child\n",
    "        # If we ended up at a leaf node, the key is in the Trie\n",
    "        return node.is_last if node else False\n",
    "\n",
    "    def _del_deep(self, key, node, index=0):\n",
    "        if index == len(key) and node.is_last:\n",
    "            # Unmark the key end\n",
    "            node.is_last = False\n",
    "            return node\n",
    "        for i in range(index, len(key)):\n",
    "            ch = key[i]\n",
    "            child = node.children.get(ch)\n",
    "            if child is None:\n",
    "                return None\n",
    "            deleted = self._del_deep(key, child, i + 1)\n",
    "            if deleted is not None:\n",
    "                # Delete the node if it's not an end and has no children\n",
    "                if not deleted.is_last and not deleted.children:\n",
    "                    # remove from children and return this too\n",
    "                    del node.children[ch]\n",
    "                    return node\n",
    "            return deleted\n",
    "\n",
    "    def delete(self, key):\n",
    "        \"\"\"Search for and delete a given key\"\"\"\n",
    "        if key is None: return False\n",
    "        self._del_deep(key, self.root, 0)\n"
   ]
  },
  {
   "cell_type": "code",
   "execution_count": 33,
   "metadata": {
    "tags": []
   },
   "outputs": [
    {
     "output_type": "stream",
     "name": "stdout",
     "text": "Keys to insert: \n[&#39;the&#39;, &#39;a&#39;, &#39;there&#39;, &#39;answer&#39;, &#39;any&#39;, &#39;by&#39;, &#39;bye&#39;, &#39;their&#39;, &#39;abc&#39;]\nthe --- Present in trie\nthese --- Not present in trie\nabc --- Present in trie\nDeleted key &quot;abc&quot;\nabc --- Not present in trie\n"
    }
   ],
   "source": [
    "# Tests\n",
    "# Input keys (use only 'a' through 'z')\n",
    "keys = [\"the\", \"a\", \"there\", \"answer\", \"any\",\n",
    "        \"by\", \"bye\", \"their\", \"abc\"]\n",
    "output = [\"Not present in trie\", \"Present in trie\"]\n",
    "\n",
    "t = Trie()\n",
    "print(\"Keys to insert: \")\n",
    "print(keys)\n",
    "\n",
    "# Construct Trie\n",
    "for key in keys:\n",
    "    t.insert(key)\n",
    "\n",
    "# Search for different keys\n",
    "if t.search(\"the\") is True:\n",
    "    print(\"the --- \" + output[1])\n",
    "else:\n",
    "    print(\"the --- \" + output[0])\n",
    "\n",
    "if t.search(\"these\") is True:\n",
    "    print(\"these --- \" + output[1])\n",
    "else:\n",
    "    print(\"these --- \" + output[0])\n",
    "\n",
    "if t.search(\"abc\") is True:\n",
    "    print(\"abc --- \" + output[1])\n",
    "else:\n",
    "    print(\"abc --- \" + output[0])\n",
    "\n",
    "t.delete(\"abc\")\n",
    "print(\"Deleted key \\\"abc\\\"\")\n",
    "\n",
    "if t.search(\"abc\") is True:\n",
    "    print(\"abc --- \" + output[1])\n",
    "else:\n",
    "    print(\"abc --- \" + output[0])"
   ]
  },
  {
   "cell_type": "code",
   "execution_count": 20,
   "metadata": {},
   "outputs": [],
   "source": [
    "### Balancing Binary Search Trees"
   ]
  },
  {
   "cell_type": "code",
   "execution_count": null,
   "metadata": {},
   "outputs": [],
   "source": []
  },
  {
   "cell_type": "code",
   "execution_count": 21,
   "metadata": {},
   "outputs": [],
   "source": [
    "### Skip List"
   ]
  },
  {
   "cell_type": "code",
   "execution_count": null,
   "metadata": {},
   "outputs": [],
   "source": []
  }
 ]
}