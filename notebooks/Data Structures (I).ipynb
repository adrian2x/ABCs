{
 "metadata": {
  "language_info": {
   "codemirror_mode": {
    "name": "ipython",
    "version": 3
   },
   "file_extension": ".py",
   "mimetype": "text/x-python",
   "name": "python",
   "nbconvert_exporter": "python",
   "pygments_lexer": "ipython3",
   "version": "3.8.5-final"
  },
  "orig_nbformat": 2,
  "kernelspec": {
   "name": "Python 3.8.5 64-bit ('.env')",
   "display_name": "Python 3.8.5 64-bit ('.env')",
   "metadata": {
    "interpreter": {
     "hash": "514b2ca66b2f9375d44f3a1d854e6a3383399504fb27534721381eb261b54291"
    }
   }
  }
 },
 "nbformat": 4,
 "nbformat_minor": 2,
 "cells": [
  {
   "source": [
    "## Basic Data Structures"
   ],
   "cell_type": "markdown",
   "metadata": {}
  },
  {
   "source": [
    "### Stack"
   ],
   "cell_type": "markdown",
   "metadata": {}
  },
  {
   "cell_type": "code",
   "execution_count": 2,
   "metadata": {
    "tags": []
   },
   "outputs": [],
   "source": [
    "class Stack():\n",
    "    def __init__():\n",
    "        ..."
   ]
  },
  {
   "source": [
    "### Queue"
   ],
   "cell_type": "markdown",
   "metadata": {}
  },
  {
   "cell_type": "code",
   "execution_count": null,
   "metadata": {},
   "outputs": [],
   "source": [
    "class Queue():\n",
    "    def __init__():\n",
    "        ..."
   ]
  },
  {
   "source": [
    "### Linked List"
   ],
   "cell_type": "markdown",
   "metadata": {}
  },
  {
   "cell_type": "code",
   "execution_count": null,
   "metadata": {},
   "outputs": [],
   "source": [
    "class LinkedList():\n",
    "    def __init__():\n",
    "        ..."
   ]
  },
  {
   "source": [
    "### Dictionary"
   ],
   "cell_type": "markdown",
   "metadata": {}
  },
  {
   "cell_type": "code",
   "execution_count": null,
   "metadata": {},
   "outputs": [],
   "source": [
    "class Dictionary():\n",
    "    def __init__():\n",
    "        ..."
   ]
  },
  {
   "source": [
    "### Binary Search Tree"
   ],
   "cell_type": "markdown",
   "metadata": {}
  },
  {
   "cell_type": "code",
   "execution_count": null,
   "metadata": {},
   "outputs": [],
   "source": [
    "class BST():\n",
    "    def __init__():\n",
    "        ..."
   ]
  },
  {
   "source": [
    "### Heap"
   ],
   "cell_type": "markdown",
   "metadata": {}
  },
  {
   "cell_type": "code",
   "execution_count": null,
   "metadata": {},
   "outputs": [],
   "source": [
    "class Heap():\n",
    "    def __init__():\n",
    "        ..."
   ]
  },
  {
   "source": [
    "### Graphs"
   ],
   "cell_type": "markdown",
   "metadata": {}
  },
  {
   "source": [
    "A Graph is a set of **nodes** (_vertices_) connected to each other in the form of a network.\n",
    "Their connections are known as **edges** (or _liks_).\n",
    "An Edge can be uni-directional or bi-directional and it can also have a cost associated with it."
   ],
   "cell_type": "code",
   "metadata": {},
   "execution_count": null,
   "outputs": []
  },
  {
   "source": [
    "#### Adjacency Matrix"
   ],
   "cell_type": "markdown",
   "metadata": {}
  },
  {
   "source": [
    "\"\"\"\n",
    "Adjacency Matrix is a two-dimensional array with the rows and columns represent vertex pairs and the cells `M[i][j]` contain a `1` if there is an edge between the corresponding vertices or a `0` if there is no edge. \n",
    "\"\"\"\n",
    "def zeroes(rows, cols):\n",
    "    return [ [0] * cols for r in range(rows) ]\n",
    "\n",
    "def graph_matrix(vertices):\n",
    "    Matrix = zeroes(vertices, vertices)\n",
    "    return Matrix\n",
    "\n",
    "def edges(Matrix, pairs):\n",
    "    for i, j in pairs:\n",
    "        Matrix[i][j] = 1\n",
    "    return Matrix\n",
    "\n",
    "# Make a graph like 0 -> 1 <-> 2\n",
    "#                   -----------^\n",
    "G = graph_matrix(3)\n",
    "G = edges(G, [(0, 1), (0, 2), (1, 2), (2, 0), (2, 1)])\n",
    "print(G)"
   ],
   "cell_type": "code",
   "metadata": {
    "tags": []
   },
   "execution_count": 6,
   "outputs": [
    {
     "output_type": "stream",
     "name": "stdout",
     "text": "[[0, 1, 1], [0, 0, 1], [1, 1, 0]]\n"
    }
   ]
  },
  {
   "source": [
    "#### Adjacency List"
   ],
   "cell_type": "markdown",
   "metadata": {}
  },
  {
   "cell_type": "code",
   "execution_count": null,
   "metadata": {},
   "outputs": [],
   "source": [
    "class Graph:\n",
    "    def __init__(self, vertices):\n",
    "        # Total number of vertices\n",
    "        self.vertices = vertices\n",
    "        # Defining a list which can hold multiple LinkedLists\n",
    "        # equal to the number of vertices in the graph\n",
    "        self.array = []\n",
    "        # Creating a new LinkedList for each vertex/index of the list\n",
    "        for i in range(vertices):\n",
    "            temp = LinkedList()\n",
    "            self.array.append(temp)"
   ]
  }
 ]
}