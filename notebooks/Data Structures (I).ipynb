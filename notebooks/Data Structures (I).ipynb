{
 "metadata": {
  "language_info": {
   "codemirror_mode": {
    "name": "ipython",
    "version": 3
   },
   "file_extension": ".py",
   "mimetype": "text/x-python",
   "name": "python",
   "nbconvert_exporter": "python",
   "pygments_lexer": "ipython3",
   "version": "3.7.3-final"
  },
  "orig_nbformat": 2,
  "kernelspec": {
   "name": "python38364bitenvvenvcb13a93435a347f991440f31eaa6c8c4",
   "display_name": "Python 3.8.3 64-bit ('.env': venv)"
  }
 },
 "nbformat": 4,
 "nbformat_minor": 2,
 "cells": [
  {
   "source": [
    "## Basic Data Structures"
   ],
   "cell_type": "markdown",
   "metadata": {}
  },
  {
   "source": [
    "### LinkedList"
   ],
   "cell_type": "markdown",
   "metadata": {}
  },
  {
   "cell_type": "code",
   "execution_count": 1,
   "metadata": {},
   "outputs": [],
   "source": [
    "class Node():\n",
    "    def __init__(self, value):\n",
    "        self.value = value\n",
    "        self.next = None\n",
    "\n",
    "class LinkedList():\n",
    "    def __init__(self, items):\n",
    "        ...\n",
    "\n",
    "    @property\n",
    "    def is_empty(self):\n",
    "        return self.head is None\n",
    "\n",
    "    def __str__(self, end=\" -> \"):\n",
    "        \"Prints the list\"\n",
    "        value = \"\"\n",
    "        if self.is_empty: return end + \"nil\"\n",
    "        temp = self.head\n",
    "        while temp.next is not None:\n",
    "            value += str(temp.data) + end\n",
    "            temp = temp.next\n",
    "        value += str(temp.data) + end + \"nil\"\n",
    "        return value\n",
    "    \n",
    "    def append_tail(self, value):\n",
    "        \"Add element to the end of the list\"\n",
    "        ...\n",
    "\n",
    "    def append_head(self, value):\n",
    "        \"Add element to the beginning of the list\"\n",
    "        ...\n",
    "\n",
    "    def __contains__(self, value):\n",
    "        \"Check if the list contains a given value\"\n",
    "        ...\n",
    "\n",
    "    def remove(self, value):\n",
    "        \"Remove a value from the list if it exists\"\n",
    "        ...\n",
    "\n",
    "    def __len__(self, value):\n",
    "        \"Return the count of nodes in the list\"\n",
    "        ...\n"
   ]
  },
  {
   "source": [
    "#### Reverse a Linked List (in-place)"
   ],
   "cell_type": "code",
   "metadata": {},
   "execution_count": null,
   "outputs": []
  },
  {
   "source": [
    "#### Implement Doubly Linked List"
   ],
   "cell_type": "code",
   "metadata": {},
   "execution_count": null,
   "outputs": []
  },
  {
   "source": [
    "#### Detect a loop in the Linked List"
   ],
   "cell_type": "code",
   "metadata": {},
   "execution_count": null,
   "outputs": []
  },
  {
   "cell_type": "code",
   "execution_count": null,
   "metadata": {},
   "outputs": [],
   "source": [
    "#### Find middle node of a Linked List"
   ]
  },
  {
   "cell_type": "code",
   "execution_count": null,
   "metadata": {},
   "outputs": [],
   "source": [
    "#### Remove duplicates from the list"
   ]
  },
  {
   "cell_type": "code",
   "execution_count": null,
   "metadata": {},
   "outputs": [],
   "source": [
    "#### Find the Nth node from the end"
   ]
  },
  {
   "cell_type": "code",
   "execution_count": null,
   "metadata": {},
   "outputs": [],
   "source": [
    "#### Delete a node with only a pointer to the node"
   ]
  },
  {
   "cell_type": "code",
   "execution_count": null,
   "metadata": {},
   "outputs": [],
   "source": [
    "#### Union and Intersection of Linked Lists"
   ]
  },
  {
   "source": [
    "### Stack"
   ],
   "cell_type": "markdown",
   "metadata": {}
  },
  {
   "cell_type": "code",
   "execution_count": 2,
   "metadata": {
    "tags": []
   },
   "outputs": [],
   "source": [
    "class Stack():\n",
    "    \"A Stack is a Last-In-First-Out sequence of items.\"\n",
    "    def __init__(self, items):\n",
    "        ...\n",
    "    \n",
    "    @property\n",
    "    def is_empty(self):\n",
    "        ...\n",
    "\n",
    "    def top(self):\n",
    "        ...\n",
    "\n",
    "    def push(self):\n",
    "        ...\n",
    "    \n",
    "    def pop(self):\n",
    "        ...\n",
    "\n",
    "    def size(self):\n",
    "        return len(self)"
   ]
  },
  {
   "source": [
    "#### Sort Values with a Stack\n",
    "Implement a function called `sort_stack()` which takes a stack and sorts all of its elements in ascending order such that when they are *popped and printed*, they come out in **ascending order**.\n",
    "#### Sample Input\n",
    "```\n",
    "stack = [23, 60, 12, 42, 4, 97, 2]\n",
    "```\n",
    "#### Sample Output\n",
    "```\n",
    "result = [97, 60, 42, 23, 12, 4, 2]\n",
    "# 2 was the value last pushed\n",
    "```"
   ],
   "cell_type": "markdown",
   "metadata": {}
  },
  {
   "source": [
    "#### Evaluate Postfix Expression Using a Stack\n",
    "The usual convention followed in mathematics is the *infix expression*. Operators like `+` and `*` appear between the two numbers involved in the calculation:\n",
    "```\n",
    "6 + 3 * 8 - 4\n",
    "```\n",
    "Another convention is the *postfix* expression where the operators appear after the two numbers involved in the expression. In *postfix*, the expression written above will be presented as:\n",
    "```\n",
    "6 3 8 * + 4 -\n",
    "```\n",
    "\n",
    "The two digits preceding an operator will be used with that operator\n",
    "\n",
    "1. From the first block of digits `6 3 8`, we pick the last two which are `3` and `8`.\n",
    "2. Reading the operators from left to right, the first one is `*`. The expression now becomes `3 * 8`\n",
    "3. The next number is `6` while the next operator is `+`, so we have `6 + 8 * 3`.\n",
    "4. The value of this expression is followed by `4`, which is right before `-`. Hence we have `6 + 8 * 3 - 4`.\n",
    "\n",
    "Implement a function called `evaluatePostFix()` that will compute a postfix expression given to it as a string.\n",
    "##### Sample Input\n",
    "```\n",
    "exp = \"921*-8-4+\"\n",
    "```\n",
    "##### Sample Output\n",
    "`3`"
   ],
   "cell_type": "markdown",
   "metadata": {}
  },
  {
   "source": [
    "#### Next Greater Element in a Stack\n",
    "You must implement the `next_greater()` function. For each element *i* in a list, it finds the first element to its right which is greater than *i*. For any element that such a value does not exist, the answer is `-1`.\n",
    "##### Sample Input\n",
    "```\n",
    "list = [4, 6, 3, 2, 8, 1]\n",
    "```\n",
    "##### Sample Output\n",
    "```\n",
    "result = [6, 8, 8, 8, -1, -1]\n",
    "```"
   ],
   "cell_type": "markdown",
   "metadata": {}
  },
  {
   "source": [
    "#### Check Balanced Parentheses using Stack\n",
    "Implement the `is_balanced()` function which will take a string containing only curly `{}`, square `[]`, and round `()` parentheses. The function will tell us whether all the parentheses in the string are balanced or not.\n",
    "For all the parentheses to be balanced, every opening parenthesis must have a closing one. The order in which they appear also matters. For example, `{[]}` is balanced, but `{[}]` is not.\n",
    "##### Sample Input\n",
    "`exp = \"{[({})]}\"`\n",
    "##### Sample Output\n",
    "`True`"
   ],
   "cell_type": "markdown",
   "metadata": {}
  },
  {
   "source": [
    "#### min() in a Stack\n",
    "You have to implement the `MinStack` class which will have a `min()` function. Whenever `min()` is called, the minimum value of the stack is returned in *O(1)* time. The element is not popped from the stack. Its value is simply returned."
   ],
   "cell_type": "markdown",
   "metadata": {}
  },
  {
   "source": [
    "### Queue"
   ],
   "cell_type": "markdown",
   "metadata": {}
  },
  {
   "cell_type": "code",
   "execution_count": null,
   "metadata": {},
   "outputs": [],
   "source": [
    "class Queue():\n",
    "    \"A Queue is a First-In-First-Out sequence of items.\"\n",
    "    def __init__(self, items):\n",
    "        ...\n",
    "\n",
    "    @property\n",
    "    def is_empty(self):\n",
    "        ...\n",
    "\n",
    "    def front(self):\n",
    "        ...\n",
    "\n",
    "    def back(self):\n",
    "        ...\n",
    "\n",
    "    def enqueue(self, item):\n",
    "        ...\n",
    "\n",
    "    def dequeue(self, item):\n",
    "        ...\n",
    "\n",
    "    def size(self):\n",
    "        return len(self)"
   ]
  },
  {
   "source": [
    "#### Binary Numbers using a Queue\n",
    "Implement a function `find_bin(n)` which will generate binary numbers from 1 till n in the form of a string using a queue.\n",
    "#### Sample Input\n",
    "`n = 3`\n",
    "#### Sample Output\n",
    "`[\"1\",\"10\",\"11\"]`"
   ],
   "cell_type": "markdown",
   "metadata": {}
  },
  {
   "source": [
    "#### Implement a Queue using Stacks\n",
    "You have to implement the `enqueue()` and `dequeue()` functions using the Stack class we created earlier. `enqueue()` will insert a value into the queue and `dequeue()` will remove a value from the queue.\n",
    "#### Input\n",
    "- `enqueue():` A value to insert into the queue.\n",
    "- `dequeue():` Does not require inputs.\n",
    "#### Output\n",
    "- `enqueue():` Returns `True` after inserting the value into the queue.\n",
    "- `dequeue():` Pops out and returns the oldest value in the queue.\n",
    "\n",
    "#### Sample Input\n",
    "```\n",
    "value = 5 # [1, 2, 3, 4]\n",
    "enqueue(value)\n",
    "dequeue()\n",
    "```\n",
    "#### Sample Output\n",
    "```\n",
    "True # [1, 2, 3, 4, 5]\n",
    "1 # [2, 3, 4, 5]\n",
    "```"
   ],
   "cell_type": "markdown",
   "metadata": {}
  },
  {
   "source": [
    "#### Reversing first k Elements of Queue\n",
    "Implement the function reverseK(queue, k) which takes a queue and a number “k” as input and reverses the first “k” elements of the queue.\n",
    "#### Output\n",
    "The queue with first “k” elements reversed. Remember to return the queue itself!\n",
    "> In case the value of “k” is larger than the size of the queue, is smaller than 0, or if the queue is empty, simply return None instead.\n",
    "\n",
    "#### Sample Input\n",
    "`Queue = [1,2,3,4,5,6,7,8,9,10], k = 5`\n",
    "#### Sample Output\n",
    "`Queue = [5,4,3,2,1,6,7,8,9,10]`"
   ],
   "cell_type": "markdown",
   "metadata": {}
  },
  {
   "source": [
    "### Hash Table (aka Dictionary)"
   ],
   "cell_type": "markdown",
   "metadata": {}
  },
  {
   "cell_type": "code",
   "execution_count": null,
   "metadata": {},
   "outputs": [],
   "source": [
    "class HashTable():\n",
    "    \"A HashTable is a mapping of key-value pairs\"\n",
    "    def __init__(self):\n",
    "        ...\n",
    "\n",
    "    def size(self):\n",
    "        \"Return the length of the hash\"\n",
    "        ...\n",
    "\n",
    "    def add(self, key, value):\n",
    "        \"Add key-value pair\"\n",
    "        ...\n",
    "\n",
    "    def resize(self):\n",
    "        \"Resize the table and rehash entries\"\n",
    "        ...\n",
    "\n",
    "    def __contains__(self, key):\n",
    "        \"Check for key in the hash\"\n",
    "        ...\n",
    "\n",
    "    def remove(self, key):\n",
    "        \"Delete a key-value entry from hash\"\n",
    "        ..."
   ]
  },
  {
   "cell_type": "code",
   "execution_count": null,
   "metadata": {},
   "outputs": [],
   "source": [
    "### Collisions\n",
    "Separate Chaining vs Open Addressing\n",
    "Open Addressing is better suited for tables with small records that can fit in a cache line (one-word or less).\n",
    "If the table is expected to have a high load factor, the records are large, or the data is variable-sized, chained hash tables often perform as well or better.\n",
    "Separate Chaining can use a dynamic array, linked list or search tree (to improve lookup worst case guarantee)\n",
    "Note that Python dicts uses open addressing with random probe."
   ]
  },
  {
   "cell_type": "code",
   "execution_count": null,
   "metadata": {},
   "outputs": [],
   "source": [
    "#### Check if lists intersect"
   ]
  },
  {
   "cell_type": "code",
   "execution_count": null,
   "metadata": {},
   "outputs": [],
   "source": [
    "#### Find Symmetric Pairs"
   ]
  },
  {
   "cell_type": "code",
   "execution_count": null,
   "metadata": {},
   "outputs": [],
   "source": [
    "#### Tracing Complete Paths"
   ]
  },
  {
   "cell_type": "code",
   "execution_count": null,
   "metadata": {},
   "outputs": [],
   "source": [
    "#### Find Two Pairs a+b=c+d"
   ]
  },
  {
   "cell_type": "code",
   "execution_count": null,
   "metadata": {},
   "outputs": [],
   "source": [
    "#### A Sublist with a Sum of 0"
   ]
  },
  {
   "cell_type": "code",
   "execution_count": null,
   "metadata": {},
   "outputs": [],
   "source": [
    "#### First Non-Repeating Integer in a list"
   ]
  },
  {
   "source": [
    "### Binary Search Tree"
   ],
   "cell_type": "markdown",
   "metadata": {}
  },
  {
   "cell_type": "code",
   "execution_count": null,
   "metadata": {},
   "outputs": [],
   "source": [
    "class Node:\n",
    "    def __init__(self, val):  # Constructor to initialize the value of the node\n",
    "        self.val = val\n",
    "        self.leftChild = None  # Sets the left and right children to `None`\n",
    "        self.rightChild = None\n",
    "        self.parent = None  # Sets the parent to `None`"
   ]
  },
  {
   "cell_type": "code",
   "execution_count": null,
   "metadata": {},
   "outputs": [],
   "source": [
    "class BinarySearchTree:\n",
    "    def __init__(self, val):  # Initializes a root node\n",
    "        self.root = Node(val)"
   ]
  },
  {
   "cell_type": "code",
   "execution_count": null,
   "metadata": {},
   "outputs": [],
   "source": [
    "#### Pre-Order Traversal"
   ]
  },
  {
   "cell_type": "code",
   "execution_count": null,
   "metadata": {},
   "outputs": [],
   "source": [
    "#### Post-Order Traversal"
   ]
  },
  {
   "cell_type": "code",
   "execution_count": null,
   "metadata": {},
   "outputs": [],
   "source": [
    "#### In-Order Traversal"
   ]
  },
  {
   "cell_type": "code",
   "execution_count": null,
   "metadata": {},
   "outputs": [],
   "source": [
    "#### min() in BST"
   ]
  },
  {
   "cell_type": "code",
   "execution_count": null,
   "metadata": {},
   "outputs": [],
   "source": [
    "#### k-th Maximum value"
   ]
  },
  {
   "cell_type": "code",
   "execution_count": null,
   "metadata": {},
   "outputs": [],
   "source": [
    "#### Find Ancestors of a given node in a BST"
   ]
  },
  {
   "cell_type": "code",
   "execution_count": null,
   "metadata": {},
   "outputs": [],
   "source": [
    "#### Find the Height of a BST"
   ]
  },
  {
   "cell_type": "code",
   "execution_count": null,
   "metadata": {},
   "outputs": [],
   "source": [
    "#### Find Nodes at \"k\" distance from the Root"
   ]
  },
  {
   "source": [
    "### Heap"
   ],
   "cell_type": "markdown",
   "metadata": {}
  },
  {
   "cell_type": "code",
   "execution_count": null,
   "metadata": {},
   "outputs": [],
   "source": [
    "class Heap:\n",
    "    def __init__(self, items):\n",
    "        ..."
   ]
  },
  {
   "cell_type": "code",
   "execution_count": null,
   "metadata": {},
   "outputs": [],
   "source": [
    "#### Find k smallest elements"
   ]
  },
  {
   "source": [
    "### Graphs"
   ],
   "cell_type": "markdown",
   "metadata": {}
  },
  {
   "source": [
    "A Graph is a set of **nodes** (_vertices_) connected to each other in the form of a network.\n",
    "Their connections are known as **edges** (or _liks_).\n",
    "An Edge can be uni-directional or bi-directional and it can also have a cost associated with it."
   ],
   "cell_type": "code",
   "metadata": {},
   "execution_count": null,
   "outputs": []
  },
  {
   "source": [
    "#### Adjacency Matrix"
   ],
   "cell_type": "markdown",
   "metadata": {}
  },
  {
   "source": [
    "\"\"\"\n",
    "Adjacency Matrix is a two-dimensional array with the rows and columns represent vertex pairs and the cells `M[i][j]` contain a `1` if there is an edge between the corresponding vertices or a `0` if there is no edge. \n",
    "\"\"\"\n",
    "def zeroes(rows, cols):\n",
    "    return [ [0] * cols for r in range(rows) ]\n",
    "\n",
    "def graph_matrix(vertices):\n",
    "    Matrix = zeroes(vertices, vertices)\n",
    "    return Matrix\n",
    "\n",
    "def edges(Matrix, pairs):\n",
    "    for i, j in pairs:\n",
    "        Matrix[i][j] = 1\n",
    "    return Matrix\n",
    "\n",
    "# Make a graph like 0 -> 1 <-> 2\n",
    "#                   -----------^\n",
    "G = graph_matrix(3)\n",
    "G = edges(G, [(0, 1), (0, 2), (1, 2), (2, 0), (2, 1)])\n",
    "print(G[0])\n",
    "print(G[1])\n",
    "print(G[2])"
   ],
   "cell_type": "code",
   "metadata": {
    "tags": []
   },
   "execution_count": 3,
   "outputs": [
    {
     "output_type": "stream",
     "name": "stdout",
     "text": [
      "[0, 1, 1]\n[0, 0, 1]\n[1, 1, 0]\n"
     ]
    }
   ]
  },
  {
   "source": [
    "#### Adjacency List"
   ],
   "cell_type": "markdown",
   "metadata": {}
  },
  {
   "cell_type": "code",
   "execution_count": null,
   "metadata": {},
   "outputs": [],
   "source": [
    "class Graph:\n",
    "    def __init__(self, vertices):\n",
    "        # Total number of vertices\n",
    "        self.vertices = vertices\n",
    "        # Defining a list which can hold multiple LinkedLists\n",
    "        # equal to the number of vertices in the graph\n",
    "        self.array = []\n",
    "        # Creating a new LinkedList for each vertex/index of the list\n",
    "        for i in range(vertices):\n",
    "            temp = LinkedList()\n",
    "            self.array.append(temp)"
   ]
  },
  {
   "cell_type": "code",
   "execution_count": null,
   "metadata": {},
   "outputs": [],
   "source": [
    "#### Implement BFS"
   ]
  },
  {
   "cell_type": "code",
   "execution_count": null,
   "metadata": {},
   "outputs": [],
   "source": [
    "#### Implement DFS"
   ]
  },
  {
   "cell_type": "code",
   "execution_count": null,
   "metadata": {},
   "outputs": [],
   "source": [
    "#### Detect Cycle in a Direct Graph"
   ]
  },
  {
   "cell_type": "code",
   "execution_count": null,
   "metadata": {},
   "outputs": [],
   "source": [
    "#### Count the number of edges in undirected graph"
   ]
  },
  {
   "cell_type": "code",
   "execution_count": null,
   "metadata": {},
   "outputs": [],
   "source": [
    "#### Check if a Given Undirected Graph is Tree"
   ]
  },
  {
   "cell_type": "code",
   "execution_count": null,
   "metadata": {},
   "outputs": [],
   "source": [
    "#### Shortest Path Between Two Vertices"
   ]
  },
  {
   "cell_type": "code",
   "execution_count": null,
   "metadata": {},
   "outputs": [],
   "source": [
    "#### Remove Edge"
   ]
  }
 ]
}