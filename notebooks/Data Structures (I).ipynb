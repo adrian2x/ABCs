{
 "metadata": {
  "language_info": {
   "codemirror_mode": {
    "name": "ipython",
    "version": 3
   },
   "file_extension": ".py",
   "mimetype": "text/x-python",
   "name": "python",
   "nbconvert_exporter": "python",
   "pygments_lexer": "ipython3",
   "version": "3.8.5-final"
  },
  "orig_nbformat": 2,
  "kernelspec": {
   "name": "Python 3.8.5 64-bit ('.env')",
   "display_name": "Python 3.8.5 64-bit ('.env')",
   "metadata": {
    "interpreter": {
     "hash": "514b2ca66b2f9375d44f3a1d854e6a3383399504fb27534721381eb261b54291"
    }
   }
  }
 },
 "nbformat": 4,
 "nbformat_minor": 2,
 "cells": [
  {
   "source": [
    "## Basic Data Structures"
   ],
   "cell_type": "markdown",
   "metadata": {}
  },
  {
   "source": [
    "### LinkedList"
   ],
   "cell_type": "markdown",
   "metadata": {}
  },
  {
   "cell_type": "code",
   "execution_count": null,
   "metadata": {},
   "outputs": [],
   "source": [
    "class LLNode():\n",
    "    def __init__(self, value):\n",
    "        self.value = value\n",
    "        self.next = None\n",
    "\n",
    "class LinkedList():\n",
    "    def __init__(self):\n",
    "        self.head = None\n",
    "\n",
    "    @property\n",
    "    def is_empty(self):\n",
    "        return self.head is None\n",
    "\n",
    "    def __str__(self, end=\" -> \"):\n",
    "        \"Prints the list\"\n",
    "        value = \"\"\n",
    "        if self.is_empty: return end + \"nil\"\n",
    "        temp = self.head\n",
    "        while temp.next is not None:\n",
    "            value += str(temp.data) + end\n",
    "            temp = temp.next\n",
    "        value += str(temp.data) + end + \"nil\"\n",
    "        return value\n",
    "    \n",
    "    def append_tail(self, value):\n",
    "        \"Add element to the end of the list\"\n",
    "        ...\n",
    "\n",
    "    def append_head(self, value):\n",
    "        \"Add element to the beginning of the list\"\n",
    "        ...\n",
    "\n",
    "    def __contains__(self, value):\n",
    "        \"Check if the list contains a given value\"\n",
    "        ...\n",
    "\n",
    "    def remove(self, value):\n",
    "        \"Remove a value from the list if it exists\"\n",
    "        ...\n",
    "\n",
    "    def __len__(self, value):\n",
    "        \"Return the count of nodes in the list\"\n",
    "        ...\n"
   ]
  },
  {
   "cell_type": "code",
   "execution_count": null,
   "metadata": {},
   "outputs": [],
   "source": [
    "#### Reverse a Linked List (in-place)"
   ]
  },
  {
   "cell_type": "code",
   "execution_count": null,
   "metadata": {},
   "outputs": [],
   "source": [
    "#### Implement Doubly Linked List"
   ]
  },
  {
   "cell_type": "code",
   "execution_count": null,
   "metadata": {},
   "outputs": [],
   "source": [
    "#### Detect a loop in the Linked List"
   ]
  },
  {
   "cell_type": "code",
   "execution_count": null,
   "metadata": {},
   "outputs": [],
   "source": [
    "#### Find middle node of a Linked List"
   ]
  },
  {
   "cell_type": "code",
   "execution_count": null,
   "metadata": {},
   "outputs": [],
   "source": [
    "#### Remove duplicates from the list"
   ]
  },
  {
   "cell_type": "code",
   "execution_count": null,
   "metadata": {},
   "outputs": [],
   "source": [
    "#### Find the Nth node from the end"
   ]
  },
  {
   "cell_type": "code",
   "execution_count": null,
   "metadata": {},
   "outputs": [],
   "source": [
    "#### Delete a node with only a pointer to the node"
   ]
  },
  {
   "cell_type": "code",
   "execution_count": null,
   "metadata": {},
   "outputs": [],
   "source": [
    "#### Union and Intersection of Linked Lists"
   ]
  },
  {
   "source": [
    "### Stack"
   ],
   "cell_type": "markdown",
   "metadata": {}
  },
  {
   "cell_type": "code",
   "execution_count": 2,
   "metadata": {
    "tags": []
   },
   "outputs": [],
   "source": [
    "class Stack():\n",
    "    \"A Stack is a Last-In-First-Out sequence of items.\"\n",
    "    def __init__(self):\n",
    "        ...\n",
    "    \n",
    "    @property\n",
    "    def is_empty(self):\n",
    "        ...\n",
    "\n",
    "    def top(self):\n",
    "        ...\n",
    "\n",
    "    def size(self):\n",
    "        return len(self)\n",
    "\n",
    "    def push(self):\n",
    "        ...\n",
    "    \n",
    "    def pop(self):\n",
    "        ..."
   ]
  },
  {
   "source": [
    "#### Implement Two Stacks Using One List\n",
    "Implement the following functions to implement two stacks using a single array such that for storing elements both stacks should use the same array. An illustration is also provided for your understanding. Also, for this problem, use Python arrays and not lists!\n",
    "```\n",
    "def push1(value): # pushes value in stack 1\n",
    "    \"inserts the given value in the first stack, i.e., stack1\"\n",
    "\n",
    "def push2(value): # pushes value in stack 2\n",
    "    \"inserts the given value in the second stack i.e stack2\"\n",
    "\n",
    "def pop1(): # pops an element from stack 1\n",
    "    \"returns and removes the top value of stack1\"\n",
    "    \n",
    "def pop2():# pops an element from stack 2\n",
    "    \"returns and removes the top value of stack2\"\n",
    "```"
   ],
   "cell_type": "markdown",
   "metadata": {}
  },
  {
   "source": [
    "#### Sort Values in a Stack\n",
    "Implement a function called sort_stack() which takes a stack and sorts all of its elements in ascending order such that when they are popped and printed, they come out in ascending order. So the element that was pushed last to the stack has to be the smallest.\n",
    "#### Sample Input\n",
    "```\n",
    "stack = [23, 60, 12, 42, 4, 97, 2]\n",
    "```\n",
    "#### Sample Output\n",
    "```\n",
    "result = [97, 60, 42, 23, 12, 4, 2]\n",
    "# 2 was the value last pushed\n",
    "```"
   ],
   "cell_type": "markdown",
   "metadata": {}
  },
  {
   "source": [
    "### Queue"
   ],
   "cell_type": "markdown",
   "metadata": {}
  },
  {
   "cell_type": "code",
   "execution_count": null,
   "metadata": {},
   "outputs": [],
   "source": [
    "class Queue():\n",
    "    \"A Queue is a First-In-First-Out sequence of items.\"\n",
    "    def __init__(self, *seq, **kwargs):\n",
    "        ...\n",
    "\n",
    "    @property\n",
    "    def is_empty(self):\n",
    "        ...\n",
    "\n",
    "    def front(self):\n",
    "        ...\n",
    "\n",
    "    def back(self):\n",
    "        ...\n",
    "\n",
    "    def size(self):\n",
    "        return len(self)\n",
    "\n",
    "    def enqueue(self, item):\n",
    "        ...\n",
    "\n",
    "    def dequeue(self, item):\n",
    "        ..."
   ]
  },
  {
   "source": [
    "#### Binary Numbers using a Queue\n",
    "Implement a function `find_bin(n)` which will generate binary numbers from 1 till n in the form of a string using a queue.\n",
    "#### Sample Input\n",
    "`n = 3`\n",
    "#### Sample Output\n",
    "`[\"1\",\"10\",\"11\"]`"
   ],
   "cell_type": "markdown",
   "metadata": {}
  },
  {
   "source": [
    "#### Reversing first k Elements of Queue\n",
    "Implement the function reverseK(queue, k) which takes a queue and a number “k” as input and reverses the first “k” elements of the queue.\n",
    "#### Output\n",
    "The queue with first “k” elements reversed. Remember to return the queue itself!\n",
    "> In case the value of “k” is larger than the size of the queue, is smaller than 0, or if the queue is empty, simply return None instead.\n",
    "\n",
    "#### Sample Input\n",
    "`Queue = [1,2,3,4,5,6,7,8,9,10], k = 5`\n",
    "#### Sample Output\n",
    "`Queue = [5,4,3,2,1,6,7,8,9,10]`"
   ],
   "cell_type": "markdown",
   "metadata": {}
  },
  {
   "source": [
    "#### Implement a Queue using Stacks\n",
    "You have to implement the `enqueue()` and `dequeue()` functions using the Stack class we created earlier. `enqueue()` will insert a value into the queue and `dequeue()` will remove a value from the queue.\n",
    "#### Input\n",
    "- `enqueue():` A value to insert into the queue.\n",
    "- `dequeue():` Does not require inputs.\n",
    "#### Output\n",
    "- `enqueue():` Returns `True` after inserting the value into the queue.\n",
    "- `dequeue():` Pops out and returns the oldest value in the queue.\n",
    "\n",
    "#### Sample Input\n",
    "```\n",
    "value = 5 # [1, 2, 3, 4]\n",
    "enqueue(value)\n",
    "dequeue()\n",
    "```\n",
    "#### Sample Output\n",
    "```\n",
    "True # [1, 2, 3, 4, 5]\n",
    "1 # [2, 3, 4, 5]\n",
    "```"
   ],
   "cell_type": "markdown",
   "metadata": {}
  },
  {
   "cell_type": "code",
   "execution_count": null,
   "metadata": {},
   "outputs": [],
   "source": [
    "#### Evaluate Postfix Expression Using a Stack"
   ]
  },
  {
   "cell_type": "code",
   "execution_count": null,
   "metadata": {},
   "outputs": [],
   "source": [
    "#### Next Greater Element in a Stack"
   ]
  },
  {
   "cell_type": "code",
   "execution_count": null,
   "metadata": {},
   "outputs": [],
   "source": [
    "#### Check Balanced Parentheses using Stack"
   ]
  },
  {
   "cell_type": "code",
   "execution_count": null,
   "metadata": {},
   "outputs": [],
   "source": [
    "#### min() using a Stack"
   ]
  },
  {
   "source": [
    "### Dictionary"
   ],
   "cell_type": "markdown",
   "metadata": {}
  },
  {
   "cell_type": "code",
   "execution_count": null,
   "metadata": {},
   "outputs": [],
   "source": [
    "class Dictionary():\n",
    "    def __init__():\n",
    "        ..."
   ]
  },
  {
   "source": [
    "### Binary Search Tree"
   ],
   "cell_type": "markdown",
   "metadata": {}
  },
  {
   "cell_type": "code",
   "execution_count": null,
   "metadata": {},
   "outputs": [],
   "source": [
    "class BST():\n",
    "    def __init__():\n",
    "        ..."
   ]
  },
  {
   "source": [
    "### Heap"
   ],
   "cell_type": "markdown",
   "metadata": {}
  },
  {
   "cell_type": "code",
   "execution_count": null,
   "metadata": {},
   "outputs": [],
   "source": [
    "class Heap():\n",
    "    def __init__():\n",
    "        ..."
   ]
  },
  {
   "source": [
    "### Graphs"
   ],
   "cell_type": "markdown",
   "metadata": {}
  },
  {
   "source": [
    "A Graph is a set of **nodes** (_vertices_) connected to each other in the form of a network.\n",
    "Their connections are known as **edges** (or _liks_).\n",
    "An Edge can be uni-directional or bi-directional and it can also have a cost associated with it."
   ],
   "cell_type": "code",
   "metadata": {},
   "execution_count": null,
   "outputs": []
  },
  {
   "source": [
    "#### Adjacency Matrix"
   ],
   "cell_type": "markdown",
   "metadata": {}
  },
  {
   "source": [
    "\"\"\"\n",
    "Adjacency Matrix is a two-dimensional array with the rows and columns represent vertex pairs and the cells `M[i][j]` contain a `1` if there is an edge between the corresponding vertices or a `0` if there is no edge. \n",
    "\"\"\"\n",
    "def zeroes(rows, cols):\n",
    "    return [ [0] * cols for r in range(rows) ]\n",
    "\n",
    "def graph_matrix(vertices):\n",
    "    Matrix = zeroes(vertices, vertices)\n",
    "    return Matrix\n",
    "\n",
    "def edges(Matrix, pairs):\n",
    "    for i, j in pairs:\n",
    "        Matrix[i][j] = 1\n",
    "    return Matrix\n",
    "\n",
    "# Make a graph like 0 -> 1 <-> 2\n",
    "#                   -----------^\n",
    "G = graph_matrix(3)\n",
    "G = edges(G, [(0, 1), (0, 2), (1, 2), (2, 0), (2, 1)])\n",
    "print(G)"
   ],
   "cell_type": "code",
   "metadata": {
    "tags": []
   },
   "execution_count": 6,
   "outputs": [
    {
     "output_type": "stream",
     "name": "stdout",
     "text": "[[0, 1, 1], [0, 0, 1], [1, 1, 0]]\n"
    }
   ]
  },
  {
   "source": [
    "#### Adjacency List"
   ],
   "cell_type": "markdown",
   "metadata": {}
  },
  {
   "cell_type": "code",
   "execution_count": null,
   "metadata": {},
   "outputs": [],
   "source": [
    "class Graph:\n",
    "    def __init__(self, vertices):\n",
    "        # Total number of vertices\n",
    "        self.vertices = vertices\n",
    "        # Defining a list which can hold multiple LinkedLists\n",
    "        # equal to the number of vertices in the graph\n",
    "        self.array = []\n",
    "        # Creating a new LinkedList for each vertex/index of the list\n",
    "        for i in range(vertices):\n",
    "            temp = LinkedList()\n",
    "            self.array.append(temp)"
   ]
  }
 ]
}